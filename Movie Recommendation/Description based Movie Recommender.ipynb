{
 "cells": [
  {
   "cell_type": "code",
   "execution_count": 1,
   "id": "91519214",
   "metadata": {},
   "outputs": [],
   "source": [
    "import numpy as np \n",
    "import pandas as pd "
   ]
  },
  {
   "cell_type": "code",
   "execution_count": 3,
   "id": "621b666d",
   "metadata": {},
   "outputs": [],
   "source": [
    "df_movies = pd.read_csv(r\"C:\\Users\\MURAT\\Desktop\\Movie Recommendation/tmdb_5000_movies.csv\")"
   ]
  },
  {
   "cell_type": "code",
   "execution_count": 4,
   "id": "d1bb4022",
   "metadata": {},
   "outputs": [
    {
     "data": {
      "text/html": [
       "<div>\n",
       "<style scoped>\n",
       "    .dataframe tbody tr th:only-of-type {\n",
       "        vertical-align: middle;\n",
       "    }\n",
       "\n",
       "    .dataframe tbody tr th {\n",
       "        vertical-align: top;\n",
       "    }\n",
       "\n",
       "    .dataframe thead th {\n",
       "        text-align: right;\n",
       "    }\n",
       "</style>\n",
       "<table border=\"1\" class=\"dataframe\">\n",
       "  <thead>\n",
       "    <tr style=\"text-align: right;\">\n",
       "      <th></th>\n",
       "      <th>budget</th>\n",
       "      <th>genres</th>\n",
       "      <th>homepage</th>\n",
       "      <th>id</th>\n",
       "      <th>keywords</th>\n",
       "      <th>original_language</th>\n",
       "      <th>original_title</th>\n",
       "      <th>overview</th>\n",
       "      <th>popularity</th>\n",
       "      <th>production_companies</th>\n",
       "      <th>production_countries</th>\n",
       "      <th>release_date</th>\n",
       "      <th>revenue</th>\n",
       "      <th>runtime</th>\n",
       "      <th>spoken_languages</th>\n",
       "      <th>status</th>\n",
       "      <th>tagline</th>\n",
       "      <th>title</th>\n",
       "      <th>vote_average</th>\n",
       "      <th>vote_count</th>\n",
       "    </tr>\n",
       "  </thead>\n",
       "  <tbody>\n",
       "    <tr>\n",
       "      <th>0</th>\n",
       "      <td>237000000</td>\n",
       "      <td>[{\"id\": 28, \"name\": \"Action\"}, {\"id\": 12, \"nam...</td>\n",
       "      <td>http://www.avatarmovie.com/</td>\n",
       "      <td>19995</td>\n",
       "      <td>[{\"id\": 1463, \"name\": \"culture clash\"}, {\"id\":...</td>\n",
       "      <td>en</td>\n",
       "      <td>Avatar</td>\n",
       "      <td>In the 22nd century, a paraplegic Marine is di...</td>\n",
       "      <td>150.437577</td>\n",
       "      <td>[{\"name\": \"Ingenious Film Partners\", \"id\": 289...</td>\n",
       "      <td>[{\"iso_3166_1\": \"US\", \"name\": \"United States o...</td>\n",
       "      <td>2009-12-10</td>\n",
       "      <td>2787965087</td>\n",
       "      <td>162.0</td>\n",
       "      <td>[{\"iso_639_1\": \"en\", \"name\": \"English\"}, {\"iso...</td>\n",
       "      <td>Released</td>\n",
       "      <td>Enter the World of Pandora.</td>\n",
       "      <td>Avatar</td>\n",
       "      <td>7.2</td>\n",
       "      <td>11800</td>\n",
       "    </tr>\n",
       "    <tr>\n",
       "      <th>1</th>\n",
       "      <td>300000000</td>\n",
       "      <td>[{\"id\": 12, \"name\": \"Adventure\"}, {\"id\": 14, \"...</td>\n",
       "      <td>http://disney.go.com/disneypictures/pirates/</td>\n",
       "      <td>285</td>\n",
       "      <td>[{\"id\": 270, \"name\": \"ocean\"}, {\"id\": 726, \"na...</td>\n",
       "      <td>en</td>\n",
       "      <td>Pirates of the Caribbean: At World's End</td>\n",
       "      <td>Captain Barbossa, long believed to be dead, ha...</td>\n",
       "      <td>139.082615</td>\n",
       "      <td>[{\"name\": \"Walt Disney Pictures\", \"id\": 2}, {\"...</td>\n",
       "      <td>[{\"iso_3166_1\": \"US\", \"name\": \"United States o...</td>\n",
       "      <td>2007-05-19</td>\n",
       "      <td>961000000</td>\n",
       "      <td>169.0</td>\n",
       "      <td>[{\"iso_639_1\": \"en\", \"name\": \"English\"}]</td>\n",
       "      <td>Released</td>\n",
       "      <td>At the end of the world, the adventure begins.</td>\n",
       "      <td>Pirates of the Caribbean: At World's End</td>\n",
       "      <td>6.9</td>\n",
       "      <td>4500</td>\n",
       "    </tr>\n",
       "    <tr>\n",
       "      <th>2</th>\n",
       "      <td>245000000</td>\n",
       "      <td>[{\"id\": 28, \"name\": \"Action\"}, {\"id\": 12, \"nam...</td>\n",
       "      <td>http://www.sonypictures.com/movies/spectre/</td>\n",
       "      <td>206647</td>\n",
       "      <td>[{\"id\": 470, \"name\": \"spy\"}, {\"id\": 818, \"name...</td>\n",
       "      <td>en</td>\n",
       "      <td>Spectre</td>\n",
       "      <td>A cryptic message from Bond’s past sends him o...</td>\n",
       "      <td>107.376788</td>\n",
       "      <td>[{\"name\": \"Columbia Pictures\", \"id\": 5}, {\"nam...</td>\n",
       "      <td>[{\"iso_3166_1\": \"GB\", \"name\": \"United Kingdom\"...</td>\n",
       "      <td>2015-10-26</td>\n",
       "      <td>880674609</td>\n",
       "      <td>148.0</td>\n",
       "      <td>[{\"iso_639_1\": \"fr\", \"name\": \"Fran\\u00e7ais\"},...</td>\n",
       "      <td>Released</td>\n",
       "      <td>A Plan No One Escapes</td>\n",
       "      <td>Spectre</td>\n",
       "      <td>6.3</td>\n",
       "      <td>4466</td>\n",
       "    </tr>\n",
       "    <tr>\n",
       "      <th>3</th>\n",
       "      <td>250000000</td>\n",
       "      <td>[{\"id\": 28, \"name\": \"Action\"}, {\"id\": 80, \"nam...</td>\n",
       "      <td>http://www.thedarkknightrises.com/</td>\n",
       "      <td>49026</td>\n",
       "      <td>[{\"id\": 849, \"name\": \"dc comics\"}, {\"id\": 853,...</td>\n",
       "      <td>en</td>\n",
       "      <td>The Dark Knight Rises</td>\n",
       "      <td>Following the death of District Attorney Harve...</td>\n",
       "      <td>112.312950</td>\n",
       "      <td>[{\"name\": \"Legendary Pictures\", \"id\": 923}, {\"...</td>\n",
       "      <td>[{\"iso_3166_1\": \"US\", \"name\": \"United States o...</td>\n",
       "      <td>2012-07-16</td>\n",
       "      <td>1084939099</td>\n",
       "      <td>165.0</td>\n",
       "      <td>[{\"iso_639_1\": \"en\", \"name\": \"English\"}]</td>\n",
       "      <td>Released</td>\n",
       "      <td>The Legend Ends</td>\n",
       "      <td>The Dark Knight Rises</td>\n",
       "      <td>7.6</td>\n",
       "      <td>9106</td>\n",
       "    </tr>\n",
       "    <tr>\n",
       "      <th>4</th>\n",
       "      <td>260000000</td>\n",
       "      <td>[{\"id\": 28, \"name\": \"Action\"}, {\"id\": 12, \"nam...</td>\n",
       "      <td>http://movies.disney.com/john-carter</td>\n",
       "      <td>49529</td>\n",
       "      <td>[{\"id\": 818, \"name\": \"based on novel\"}, {\"id\":...</td>\n",
       "      <td>en</td>\n",
       "      <td>John Carter</td>\n",
       "      <td>John Carter is a war-weary, former military ca...</td>\n",
       "      <td>43.926995</td>\n",
       "      <td>[{\"name\": \"Walt Disney Pictures\", \"id\": 2}]</td>\n",
       "      <td>[{\"iso_3166_1\": \"US\", \"name\": \"United States o...</td>\n",
       "      <td>2012-03-07</td>\n",
       "      <td>284139100</td>\n",
       "      <td>132.0</td>\n",
       "      <td>[{\"iso_639_1\": \"en\", \"name\": \"English\"}]</td>\n",
       "      <td>Released</td>\n",
       "      <td>Lost in our world, found in another.</td>\n",
       "      <td>John Carter</td>\n",
       "      <td>6.1</td>\n",
       "      <td>2124</td>\n",
       "    </tr>\n",
       "  </tbody>\n",
       "</table>\n",
       "</div>"
      ],
      "text/plain": [
       "      budget                                             genres  \\\n",
       "0  237000000  [{\"id\": 28, \"name\": \"Action\"}, {\"id\": 12, \"nam...   \n",
       "1  300000000  [{\"id\": 12, \"name\": \"Adventure\"}, {\"id\": 14, \"...   \n",
       "2  245000000  [{\"id\": 28, \"name\": \"Action\"}, {\"id\": 12, \"nam...   \n",
       "3  250000000  [{\"id\": 28, \"name\": \"Action\"}, {\"id\": 80, \"nam...   \n",
       "4  260000000  [{\"id\": 28, \"name\": \"Action\"}, {\"id\": 12, \"nam...   \n",
       "\n",
       "                                       homepage      id  \\\n",
       "0                   http://www.avatarmovie.com/   19995   \n",
       "1  http://disney.go.com/disneypictures/pirates/     285   \n",
       "2   http://www.sonypictures.com/movies/spectre/  206647   \n",
       "3            http://www.thedarkknightrises.com/   49026   \n",
       "4          http://movies.disney.com/john-carter   49529   \n",
       "\n",
       "                                            keywords original_language  \\\n",
       "0  [{\"id\": 1463, \"name\": \"culture clash\"}, {\"id\":...                en   \n",
       "1  [{\"id\": 270, \"name\": \"ocean\"}, {\"id\": 726, \"na...                en   \n",
       "2  [{\"id\": 470, \"name\": \"spy\"}, {\"id\": 818, \"name...                en   \n",
       "3  [{\"id\": 849, \"name\": \"dc comics\"}, {\"id\": 853,...                en   \n",
       "4  [{\"id\": 818, \"name\": \"based on novel\"}, {\"id\":...                en   \n",
       "\n",
       "                             original_title  \\\n",
       "0                                    Avatar   \n",
       "1  Pirates of the Caribbean: At World's End   \n",
       "2                                   Spectre   \n",
       "3                     The Dark Knight Rises   \n",
       "4                               John Carter   \n",
       "\n",
       "                                            overview  popularity  \\\n",
       "0  In the 22nd century, a paraplegic Marine is di...  150.437577   \n",
       "1  Captain Barbossa, long believed to be dead, ha...  139.082615   \n",
       "2  A cryptic message from Bond’s past sends him o...  107.376788   \n",
       "3  Following the death of District Attorney Harve...  112.312950   \n",
       "4  John Carter is a war-weary, former military ca...   43.926995   \n",
       "\n",
       "                                production_companies  \\\n",
       "0  [{\"name\": \"Ingenious Film Partners\", \"id\": 289...   \n",
       "1  [{\"name\": \"Walt Disney Pictures\", \"id\": 2}, {\"...   \n",
       "2  [{\"name\": \"Columbia Pictures\", \"id\": 5}, {\"nam...   \n",
       "3  [{\"name\": \"Legendary Pictures\", \"id\": 923}, {\"...   \n",
       "4        [{\"name\": \"Walt Disney Pictures\", \"id\": 2}]   \n",
       "\n",
       "                                production_countries release_date     revenue  \\\n",
       "0  [{\"iso_3166_1\": \"US\", \"name\": \"United States o...   2009-12-10  2787965087   \n",
       "1  [{\"iso_3166_1\": \"US\", \"name\": \"United States o...   2007-05-19   961000000   \n",
       "2  [{\"iso_3166_1\": \"GB\", \"name\": \"United Kingdom\"...   2015-10-26   880674609   \n",
       "3  [{\"iso_3166_1\": \"US\", \"name\": \"United States o...   2012-07-16  1084939099   \n",
       "4  [{\"iso_3166_1\": \"US\", \"name\": \"United States o...   2012-03-07   284139100   \n",
       "\n",
       "   runtime                                   spoken_languages    status  \\\n",
       "0    162.0  [{\"iso_639_1\": \"en\", \"name\": \"English\"}, {\"iso...  Released   \n",
       "1    169.0           [{\"iso_639_1\": \"en\", \"name\": \"English\"}]  Released   \n",
       "2    148.0  [{\"iso_639_1\": \"fr\", \"name\": \"Fran\\u00e7ais\"},...  Released   \n",
       "3    165.0           [{\"iso_639_1\": \"en\", \"name\": \"English\"}]  Released   \n",
       "4    132.0           [{\"iso_639_1\": \"en\", \"name\": \"English\"}]  Released   \n",
       "\n",
       "                                          tagline  \\\n",
       "0                     Enter the World of Pandora.   \n",
       "1  At the end of the world, the adventure begins.   \n",
       "2                           A Plan No One Escapes   \n",
       "3                                 The Legend Ends   \n",
       "4            Lost in our world, found in another.   \n",
       "\n",
       "                                      title  vote_average  vote_count  \n",
       "0                                    Avatar           7.2       11800  \n",
       "1  Pirates of the Caribbean: At World's End           6.9        4500  \n",
       "2                                   Spectre           6.3        4466  \n",
       "3                     The Dark Knight Rises           7.6        9106  \n",
       "4                               John Carter           6.1        2124  "
      ]
     },
     "execution_count": 4,
     "metadata": {},
     "output_type": "execute_result"
    }
   ],
   "source": [
    "df_movies.head(5)"
   ]
  },
  {
   "cell_type": "code",
   "execution_count": 5,
   "id": "d2126827",
   "metadata": {},
   "outputs": [
    {
     "name": "stderr",
     "output_type": "stream",
     "text": [
      "C:\\Users\\MURAT\\AppData\\Local\\Temp/ipykernel_9456/3765203513.py:3: SettingWithCopyWarning: \n",
      "A value is trying to be set on a copy of a slice from a DataFrame\n",
      "\n",
      "See the caveats in the documentation: https://pandas.pydata.org/pandas-docs/stable/user_guide/indexing.html#returning-a-view-versus-a-copy\n",
      "  df_movies['genres'][i] = '-'.join(d['name'] for d in json.loads(df_movies['genres'][i]))\n",
      "C:\\Users\\MURAT\\AppData\\Local\\Temp/ipykernel_9456/3765203513.py:5: SettingWithCopyWarning: \n",
      "A value is trying to be set on a copy of a slice from a DataFrame\n",
      "\n",
      "See the caveats in the documentation: https://pandas.pydata.org/pandas-docs/stable/user_guide/indexing.html#returning-a-view-versus-a-copy\n",
      "  df_movies['keywords'][i] = '-'.join(d['name'] for d in json.loads(df_movies['keywords'][i]))\n",
      "C:\\Users\\MURAT\\AppData\\Local\\Temp/ipykernel_9456/3765203513.py:7: SettingWithCopyWarning: \n",
      "A value is trying to be set on a copy of a slice from a DataFrame\n",
      "\n",
      "See the caveats in the documentation: https://pandas.pydata.org/pandas-docs/stable/user_guide/indexing.html#returning-a-view-versus-a-copy\n",
      "  df_movies['production_companies'][i] = '-'.join(d['name'] for d in json.loads(df_movies['production_companies'][i]))\n",
      "C:\\Users\\MURAT\\AppData\\Local\\Temp/ipykernel_9456/3765203513.py:9: SettingWithCopyWarning: \n",
      "A value is trying to be set on a copy of a slice from a DataFrame\n",
      "\n",
      "See the caveats in the documentation: https://pandas.pydata.org/pandas-docs/stable/user_guide/indexing.html#returning-a-view-versus-a-copy\n",
      "  df_movies['production_countries'][i] = '-'.join(d['name'] for d in json.loads(df_movies['production_countries'][i]))\n",
      "C:\\Users\\MURAT\\AppData\\Local\\Temp/ipykernel_9456/3765203513.py:11: SettingWithCopyWarning: \n",
      "A value is trying to be set on a copy of a slice from a DataFrame\n",
      "\n",
      "See the caveats in the documentation: https://pandas.pydata.org/pandas-docs/stable/user_guide/indexing.html#returning-a-view-versus-a-copy\n",
      "  df_movies['spoken_languages'][i] = '-'.join(d['name'] for d in json.loads(df_movies['spoken_languages'][i]))\n"
     ]
    }
   ],
   "source": [
    "import json \n",
    "for i in range(len(df_movies['genres'])) :\n",
    "  df_movies['genres'][i] = '-'.join(d['name'] for d in json.loads(df_movies['genres'][i]))\n",
    "for i in range(len(df_movies['keywords'])) :\n",
    "  df_movies['keywords'][i] = '-'.join(d['name'] for d in json.loads(df_movies['keywords'][i]))\n",
    "for i in range(len(df_movies['production_companies'])) :\n",
    "  df_movies['production_companies'][i] = '-'.join(d['name'] for d in json.loads(df_movies['production_companies'][i]))\n",
    "for i in range(len(df_movies['production_countries'])) :\n",
    "  df_movies['production_countries'][i] = '-'.join(d['name'] for d in json.loads(df_movies['production_countries'][i]))\n",
    "for i in range(len(df_movies['spoken_languages'])) :\n",
    "  df_movies['spoken_languages'][i] = '-'.join(d['name'] for d in json.loads(df_movies['spoken_languages'][i]))\n",
    "    "
   ]
  },
  {
   "cell_type": "code",
   "execution_count": 6,
   "id": "4d0c68f7",
   "metadata": {},
   "outputs": [],
   "source": [
    "df_movies = df_movies.drop(['budget','homepage', 'id', 'release_date' ,'release_date', 'status', 'revenue'],axis =1)"
   ]
  },
  {
   "cell_type": "code",
   "execution_count": 7,
   "id": "b8a1b778",
   "metadata": {},
   "outputs": [
    {
     "data": {
      "text/html": [
       "<div>\n",
       "<style scoped>\n",
       "    .dataframe tbody tr th:only-of-type {\n",
       "        vertical-align: middle;\n",
       "    }\n",
       "\n",
       "    .dataframe tbody tr th {\n",
       "        vertical-align: top;\n",
       "    }\n",
       "\n",
       "    .dataframe thead th {\n",
       "        text-align: right;\n",
       "    }\n",
       "</style>\n",
       "<table border=\"1\" class=\"dataframe\">\n",
       "  <thead>\n",
       "    <tr style=\"text-align: right;\">\n",
       "      <th></th>\n",
       "      <th>genres</th>\n",
       "      <th>keywords</th>\n",
       "      <th>original_language</th>\n",
       "      <th>original_title</th>\n",
       "      <th>overview</th>\n",
       "      <th>popularity</th>\n",
       "      <th>production_companies</th>\n",
       "      <th>production_countries</th>\n",
       "      <th>runtime</th>\n",
       "      <th>spoken_languages</th>\n",
       "      <th>tagline</th>\n",
       "      <th>title</th>\n",
       "      <th>vote_average</th>\n",
       "      <th>vote_count</th>\n",
       "    </tr>\n",
       "  </thead>\n",
       "  <tbody>\n",
       "    <tr>\n",
       "      <th>0</th>\n",
       "      <td>Action-Adventure-Fantasy-Science Fiction</td>\n",
       "      <td>culture clash-future-space war-space colony-so...</td>\n",
       "      <td>en</td>\n",
       "      <td>Avatar</td>\n",
       "      <td>In the 22nd century, a paraplegic Marine is di...</td>\n",
       "      <td>150.437577</td>\n",
       "      <td>Ingenious Film Partners-Twentieth Century Fox ...</td>\n",
       "      <td>United States of America-United Kingdom</td>\n",
       "      <td>162.0</td>\n",
       "      <td>English-Español</td>\n",
       "      <td>Enter the World of Pandora.</td>\n",
       "      <td>Avatar</td>\n",
       "      <td>7.2</td>\n",
       "      <td>11800</td>\n",
       "    </tr>\n",
       "    <tr>\n",
       "      <th>1</th>\n",
       "      <td>Adventure-Fantasy-Action</td>\n",
       "      <td>ocean-drug abuse-exotic island-east india trad...</td>\n",
       "      <td>en</td>\n",
       "      <td>Pirates of the Caribbean: At World's End</td>\n",
       "      <td>Captain Barbossa, long believed to be dead, ha...</td>\n",
       "      <td>139.082615</td>\n",
       "      <td>Walt Disney Pictures-Jerry Bruckheimer Films-S...</td>\n",
       "      <td>United States of America</td>\n",
       "      <td>169.0</td>\n",
       "      <td>English</td>\n",
       "      <td>At the end of the world, the adventure begins.</td>\n",
       "      <td>Pirates of the Caribbean: At World's End</td>\n",
       "      <td>6.9</td>\n",
       "      <td>4500</td>\n",
       "    </tr>\n",
       "    <tr>\n",
       "      <th>2</th>\n",
       "      <td>Action-Adventure-Crime</td>\n",
       "      <td>spy-based on novel-secret agent-sequel-mi6-bri...</td>\n",
       "      <td>en</td>\n",
       "      <td>Spectre</td>\n",
       "      <td>A cryptic message from Bond’s past sends him o...</td>\n",
       "      <td>107.376788</td>\n",
       "      <td>Columbia Pictures-Danjaq-B24</td>\n",
       "      <td>United Kingdom-United States of America</td>\n",
       "      <td>148.0</td>\n",
       "      <td>Français-English-Español-Italiano-Deutsch</td>\n",
       "      <td>A Plan No One Escapes</td>\n",
       "      <td>Spectre</td>\n",
       "      <td>6.3</td>\n",
       "      <td>4466</td>\n",
       "    </tr>\n",
       "    <tr>\n",
       "      <th>3</th>\n",
       "      <td>Action-Crime-Drama-Thriller</td>\n",
       "      <td>dc comics-crime fighter-terrorist-secret ident...</td>\n",
       "      <td>en</td>\n",
       "      <td>The Dark Knight Rises</td>\n",
       "      <td>Following the death of District Attorney Harve...</td>\n",
       "      <td>112.312950</td>\n",
       "      <td>Legendary Pictures-Warner Bros.-DC Entertainme...</td>\n",
       "      <td>United States of America</td>\n",
       "      <td>165.0</td>\n",
       "      <td>English</td>\n",
       "      <td>The Legend Ends</td>\n",
       "      <td>The Dark Knight Rises</td>\n",
       "      <td>7.6</td>\n",
       "      <td>9106</td>\n",
       "    </tr>\n",
       "    <tr>\n",
       "      <th>4</th>\n",
       "      <td>Action-Adventure-Science Fiction</td>\n",
       "      <td>based on novel-mars-medallion-space travel-pri...</td>\n",
       "      <td>en</td>\n",
       "      <td>John Carter</td>\n",
       "      <td>John Carter is a war-weary, former military ca...</td>\n",
       "      <td>43.926995</td>\n",
       "      <td>Walt Disney Pictures</td>\n",
       "      <td>United States of America</td>\n",
       "      <td>132.0</td>\n",
       "      <td>English</td>\n",
       "      <td>Lost in our world, found in another.</td>\n",
       "      <td>John Carter</td>\n",
       "      <td>6.1</td>\n",
       "      <td>2124</td>\n",
       "    </tr>\n",
       "    <tr>\n",
       "      <th>...</th>\n",
       "      <td>...</td>\n",
       "      <td>...</td>\n",
       "      <td>...</td>\n",
       "      <td>...</td>\n",
       "      <td>...</td>\n",
       "      <td>...</td>\n",
       "      <td>...</td>\n",
       "      <td>...</td>\n",
       "      <td>...</td>\n",
       "      <td>...</td>\n",
       "      <td>...</td>\n",
       "      <td>...</td>\n",
       "      <td>...</td>\n",
       "      <td>...</td>\n",
       "    </tr>\n",
       "    <tr>\n",
       "      <th>4798</th>\n",
       "      <td>Action-Crime-Thriller</td>\n",
       "      <td>united states–mexico barrier-legs-arms-paper k...</td>\n",
       "      <td>es</td>\n",
       "      <td>El Mariachi</td>\n",
       "      <td>El Mariachi just wants to play his guitar and ...</td>\n",
       "      <td>14.269792</td>\n",
       "      <td>Columbia Pictures</td>\n",
       "      <td>Mexico-United States of America</td>\n",
       "      <td>81.0</td>\n",
       "      <td>Español</td>\n",
       "      <td>He didn't come looking for trouble, but troubl...</td>\n",
       "      <td>El Mariachi</td>\n",
       "      <td>6.6</td>\n",
       "      <td>238</td>\n",
       "    </tr>\n",
       "    <tr>\n",
       "      <th>4799</th>\n",
       "      <td>Comedy-Romance</td>\n",
       "      <td></td>\n",
       "      <td>en</td>\n",
       "      <td>Newlyweds</td>\n",
       "      <td>A newlywed couple's honeymoon is upended by th...</td>\n",
       "      <td>0.642552</td>\n",
       "      <td></td>\n",
       "      <td></td>\n",
       "      <td>85.0</td>\n",
       "      <td></td>\n",
       "      <td>A newlywed couple's honeymoon is upended by th...</td>\n",
       "      <td>Newlyweds</td>\n",
       "      <td>5.9</td>\n",
       "      <td>5</td>\n",
       "    </tr>\n",
       "    <tr>\n",
       "      <th>4800</th>\n",
       "      <td>Comedy-Drama-Romance-TV Movie</td>\n",
       "      <td>date-love at first sight-narration-investigati...</td>\n",
       "      <td>en</td>\n",
       "      <td>Signed, Sealed, Delivered</td>\n",
       "      <td>\"Signed, Sealed, Delivered\" introduces a dedic...</td>\n",
       "      <td>1.444476</td>\n",
       "      <td>Front Street Pictures-Muse Entertainment Enter...</td>\n",
       "      <td>United States of America</td>\n",
       "      <td>120.0</td>\n",
       "      <td>English</td>\n",
       "      <td>NaN</td>\n",
       "      <td>Signed, Sealed, Delivered</td>\n",
       "      <td>7.0</td>\n",
       "      <td>6</td>\n",
       "    </tr>\n",
       "    <tr>\n",
       "      <th>4801</th>\n",
       "      <td></td>\n",
       "      <td></td>\n",
       "      <td>en</td>\n",
       "      <td>Shanghai Calling</td>\n",
       "      <td>When ambitious New York attorney Sam is sent t...</td>\n",
       "      <td>0.857008</td>\n",
       "      <td></td>\n",
       "      <td>United States of America-China</td>\n",
       "      <td>98.0</td>\n",
       "      <td>English</td>\n",
       "      <td>A New Yorker in Shanghai</td>\n",
       "      <td>Shanghai Calling</td>\n",
       "      <td>5.7</td>\n",
       "      <td>7</td>\n",
       "    </tr>\n",
       "    <tr>\n",
       "      <th>4802</th>\n",
       "      <td>Documentary</td>\n",
       "      <td>obsession-camcorder-crush-dream girl</td>\n",
       "      <td>en</td>\n",
       "      <td>My Date with Drew</td>\n",
       "      <td>Ever since the second grade when he first saw ...</td>\n",
       "      <td>1.929883</td>\n",
       "      <td>rusty bear entertainment-lucky crow films</td>\n",
       "      <td>United States of America</td>\n",
       "      <td>90.0</td>\n",
       "      <td>English</td>\n",
       "      <td>NaN</td>\n",
       "      <td>My Date with Drew</td>\n",
       "      <td>6.3</td>\n",
       "      <td>16</td>\n",
       "    </tr>\n",
       "  </tbody>\n",
       "</table>\n",
       "<p>4803 rows × 14 columns</p>\n",
       "</div>"
      ],
      "text/plain": [
       "                                        genres  \\\n",
       "0     Action-Adventure-Fantasy-Science Fiction   \n",
       "1                     Adventure-Fantasy-Action   \n",
       "2                       Action-Adventure-Crime   \n",
       "3                  Action-Crime-Drama-Thriller   \n",
       "4             Action-Adventure-Science Fiction   \n",
       "...                                        ...   \n",
       "4798                     Action-Crime-Thriller   \n",
       "4799                            Comedy-Romance   \n",
       "4800             Comedy-Drama-Romance-TV Movie   \n",
       "4801                                             \n",
       "4802                               Documentary   \n",
       "\n",
       "                                               keywords original_language  \\\n",
       "0     culture clash-future-space war-space colony-so...                en   \n",
       "1     ocean-drug abuse-exotic island-east india trad...                en   \n",
       "2     spy-based on novel-secret agent-sequel-mi6-bri...                en   \n",
       "3     dc comics-crime fighter-terrorist-secret ident...                en   \n",
       "4     based on novel-mars-medallion-space travel-pri...                en   \n",
       "...                                                 ...               ...   \n",
       "4798  united states–mexico barrier-legs-arms-paper k...                es   \n",
       "4799                                                                   en   \n",
       "4800  date-love at first sight-narration-investigati...                en   \n",
       "4801                                                                   en   \n",
       "4802               obsession-camcorder-crush-dream girl                en   \n",
       "\n",
       "                                original_title  \\\n",
       "0                                       Avatar   \n",
       "1     Pirates of the Caribbean: At World's End   \n",
       "2                                      Spectre   \n",
       "3                        The Dark Knight Rises   \n",
       "4                                  John Carter   \n",
       "...                                        ...   \n",
       "4798                               El Mariachi   \n",
       "4799                                 Newlyweds   \n",
       "4800                 Signed, Sealed, Delivered   \n",
       "4801                          Shanghai Calling   \n",
       "4802                         My Date with Drew   \n",
       "\n",
       "                                               overview  popularity  \\\n",
       "0     In the 22nd century, a paraplegic Marine is di...  150.437577   \n",
       "1     Captain Barbossa, long believed to be dead, ha...  139.082615   \n",
       "2     A cryptic message from Bond’s past sends him o...  107.376788   \n",
       "3     Following the death of District Attorney Harve...  112.312950   \n",
       "4     John Carter is a war-weary, former military ca...   43.926995   \n",
       "...                                                 ...         ...   \n",
       "4798  El Mariachi just wants to play his guitar and ...   14.269792   \n",
       "4799  A newlywed couple's honeymoon is upended by th...    0.642552   \n",
       "4800  \"Signed, Sealed, Delivered\" introduces a dedic...    1.444476   \n",
       "4801  When ambitious New York attorney Sam is sent t...    0.857008   \n",
       "4802  Ever since the second grade when he first saw ...    1.929883   \n",
       "\n",
       "                                   production_companies  \\\n",
       "0     Ingenious Film Partners-Twentieth Century Fox ...   \n",
       "1     Walt Disney Pictures-Jerry Bruckheimer Films-S...   \n",
       "2                          Columbia Pictures-Danjaq-B24   \n",
       "3     Legendary Pictures-Warner Bros.-DC Entertainme...   \n",
       "4                                  Walt Disney Pictures   \n",
       "...                                                 ...   \n",
       "4798                                  Columbia Pictures   \n",
       "4799                                                      \n",
       "4800  Front Street Pictures-Muse Entertainment Enter...   \n",
       "4801                                                      \n",
       "4802          rusty bear entertainment-lucky crow films   \n",
       "\n",
       "                         production_countries  runtime  \\\n",
       "0     United States of America-United Kingdom    162.0   \n",
       "1                    United States of America    169.0   \n",
       "2     United Kingdom-United States of America    148.0   \n",
       "3                    United States of America    165.0   \n",
       "4                    United States of America    132.0   \n",
       "...                                       ...      ...   \n",
       "4798          Mexico-United States of America     81.0   \n",
       "4799                                              85.0   \n",
       "4800                 United States of America    120.0   \n",
       "4801           United States of America-China     98.0   \n",
       "4802                 United States of America     90.0   \n",
       "\n",
       "                               spoken_languages  \\\n",
       "0                               English-Español   \n",
       "1                                       English   \n",
       "2     Français-English-Español-Italiano-Deutsch   \n",
       "3                                       English   \n",
       "4                                       English   \n",
       "...                                         ...   \n",
       "4798                                    Español   \n",
       "4799                                              \n",
       "4800                                    English   \n",
       "4801                                    English   \n",
       "4802                                    English   \n",
       "\n",
       "                                                tagline  \\\n",
       "0                           Enter the World of Pandora.   \n",
       "1        At the end of the world, the adventure begins.   \n",
       "2                                 A Plan No One Escapes   \n",
       "3                                       The Legend Ends   \n",
       "4                  Lost in our world, found in another.   \n",
       "...                                                 ...   \n",
       "4798  He didn't come looking for trouble, but troubl...   \n",
       "4799  A newlywed couple's honeymoon is upended by th...   \n",
       "4800                                                NaN   \n",
       "4801                           A New Yorker in Shanghai   \n",
       "4802                                                NaN   \n",
       "\n",
       "                                         title  vote_average  vote_count  \n",
       "0                                       Avatar           7.2       11800  \n",
       "1     Pirates of the Caribbean: At World's End           6.9        4500  \n",
       "2                                      Spectre           6.3        4466  \n",
       "3                        The Dark Knight Rises           7.6        9106  \n",
       "4                                  John Carter           6.1        2124  \n",
       "...                                        ...           ...         ...  \n",
       "4798                               El Mariachi           6.6         238  \n",
       "4799                                 Newlyweds           5.9           5  \n",
       "4800                 Signed, Sealed, Delivered           7.0           6  \n",
       "4801                          Shanghai Calling           5.7           7  \n",
       "4802                         My Date with Drew           6.3          16  \n",
       "\n",
       "[4803 rows x 14 columns]"
      ]
     },
     "execution_count": 7,
     "metadata": {},
     "output_type": "execute_result"
    }
   ],
   "source": [
    "df_movies"
   ]
  },
  {
   "cell_type": "code",
   "execution_count": 8,
   "id": "eaab9d4c",
   "metadata": {},
   "outputs": [],
   "source": [
    "df_movies['tagline'] = df_movies['tagline'].fillna('')\n",
    "df_movies['keywords'] = df_movies['keywords'].fillna('')\n",
    "df_movies['overview'] = df_movies['overview'].fillna('')\n",
    "df_movies['description'] = df_movies['overview'] + df_movies['tagline'] + df_movies['keywords'] \n",
    "df_movies['description'] = df_movies['description'].fillna('')"
   ]
  },
  {
   "cell_type": "code",
   "execution_count": 13,
   "id": "f9e4d5ad",
   "metadata": {},
   "outputs": [],
   "source": [
    "from sklearn.feature_extraction.text import TfidfVectorizer, CountVectorizer\n",
    "from sklearn.metrics.pairwise import linear_kernel, cosine_similarity"
   ]
  },
  {
   "cell_type": "code",
   "execution_count": 14,
   "id": "c9342f00",
   "metadata": {},
   "outputs": [],
   "source": [
    "v = TfidfVectorizer(analyzer='word',ngram_range=(1, 2), stop_words='english')"
   ]
  },
  {
   "cell_type": "code",
   "execution_count": 15,
   "id": "d7e8320f",
   "metadata": {},
   "outputs": [],
   "source": [
    "x = v.fit_transform(df_movies['description'].values.astype('U'))"
   ]
  },
  {
   "cell_type": "code",
   "execution_count": 16,
   "id": "e2f5a833",
   "metadata": {},
   "outputs": [],
   "source": [
    "cosine_sim = linear_kernel(x, x)"
   ]
  },
  {
   "cell_type": "code",
   "execution_count": 17,
   "id": "cddd479a",
   "metadata": {},
   "outputs": [
    {
     "data": {
      "text/plain": [
       "array([1.        , 0.00352403, 0.        , ..., 0.00294935, 0.00401829,\n",
       "       0.        ])"
      ]
     },
     "execution_count": 17,
     "metadata": {},
     "output_type": "execute_result"
    }
   ],
   "source": [
    "cosine_sim[0]"
   ]
  },
  {
   "cell_type": "code",
   "execution_count": 18,
   "id": "3e4428ed",
   "metadata": {},
   "outputs": [],
   "source": [
    "titles = df_movies['title']\n",
    "indices = pd.Series(df_movies.index, index=df_movies['title'])"
   ]
  },
  {
   "cell_type": "code",
   "execution_count": 24,
   "id": "07e93e52",
   "metadata": {},
   "outputs": [],
   "source": [
    "def get_recommendations(title):\n",
    "    idx = indices[title]\n",
    "    sim_scores = list(enumerate(cosine_sim[idx]))\n",
    "    sim_scores = sorted(sim_scores, key=lambda x: x[1], reverse=True)\n",
    "    sim_scores = sim_scores[1:21]\n",
    "    movie_indices = [i[0] for i in sim_scores]\n",
    "    movie_scores = [i[1] for i in sim_scores]\n",
    "    return titles.iloc[movie_indices],movie_scores"
   ]
  },
  {
   "cell_type": "code",
   "execution_count": 25,
   "id": "67a3c335",
   "metadata": {},
   "outputs": [
    {
     "data": {
      "text/plain": [
       "64         X-Men: Apocalypse\n",
       "232            The Wolverine\n",
       "203                       X2\n",
       "33     X-Men: The Last Stand\n",
       "16              The Avengers\n",
       "Name: title, dtype: object"
      ]
     },
     "execution_count": 25,
     "metadata": {},
     "output_type": "execute_result"
    }
   ],
   "source": [
    "a,b=get_recommendations('X-Men')\n",
    "a.head(5)"
   ]
  },
  {
   "cell_type": "code",
   "execution_count": 26,
   "id": "94f8c16b",
   "metadata": {},
   "outputs": [
    {
     "data": {
      "text/plain": [
       "1905         My Soul to Take\n",
       "1773             Mindhunters\n",
       "1379                The Cell\n",
       "801     The Devil's Advocate\n",
       "1320              Switchback\n",
       "Name: title, dtype: object"
      ]
     },
     "execution_count": 26,
     "metadata": {},
     "output_type": "execute_result"
    }
   ],
   "source": [
    "a,b=get_recommendations('Se7en')\n",
    "a.head(5)"
   ]
  },
  {
   "cell_type": "code",
   "execution_count": 28,
   "id": "78e49819",
   "metadata": {},
   "outputs": [
    {
     "data": {
      "text/plain": [
       "2731    The Godfather: Part II\n",
       "1873                Blood Ties\n",
       "2038             Summer of Sam\n",
       "3293               10th & Wolf\n",
       "3623                      Made\n",
       "Name: title, dtype: object"
      ]
     },
     "execution_count": 28,
     "metadata": {},
     "output_type": "execute_result"
    }
   ],
   "source": [
    "a,b=get_recommendations('The Godfather')\n",
    "a.head(5)"
   ]
  },
  {
   "cell_type": "code",
   "execution_count": 29,
   "id": "0ed4aea5",
   "metadata": {},
   "outputs": [
    {
     "data": {
      "text/plain": [
       "191     Harry Potter and the Prisoner of Azkaban\n",
       "113    Harry Potter and the Order of the Phoenix\n",
       "114          Harry Potter and the Goblet of Fire\n",
       "197     Harry Potter and the Philosopher's Stone\n",
       "8         Harry Potter and the Half-Blood Prince\n",
       "Name: title, dtype: object"
      ]
     },
     "execution_count": 29,
     "metadata": {},
     "output_type": "execute_result"
    }
   ],
   "source": [
    "a,b=get_recommendations('Harry Potter and the Chamber of Secrets')\n",
    "a.head(5)"
   ]
  },
  {
   "cell_type": "code",
   "execution_count": 31,
   "id": "7a605e41",
   "metadata": {},
   "outputs": [
    {
     "data": {
      "text/plain": [
       "330            The Lord of the Rings: The Two Towers\n",
       "98                 The Hobbit: An Unexpected Journey\n",
       "22               The Hobbit: The Desolation of Smaug\n",
       "19         The Hobbit: The Battle of the Five Armies\n",
       "329    The Lord of the Rings: The Return of the King\n",
       "Name: title, dtype: object"
      ]
     },
     "execution_count": 31,
     "metadata": {},
     "output_type": "execute_result"
    }
   ],
   "source": [
    "a,b=get_recommendations('The Lord of the Rings: The Fellowship of the Ring')\n",
    "a.head(5)"
   ]
  },
  {
   "cell_type": "code",
   "execution_count": 35,
   "id": "ecfd5aa9",
   "metadata": {},
   "outputs": [
    {
     "data": {
      "text/plain": [
       "3978           Amnesiac\n",
       "3533               Iris\n",
       "1465    The Maze Runner\n",
       "1762          Dark City\n",
       "328        Finding Nemo\n",
       "Name: title, dtype: object"
      ]
     },
     "execution_count": 35,
     "metadata": {},
     "output_type": "execute_result"
    }
   ],
   "source": [
    "a,b=get_recommendations('Memento')\n",
    "a.head(5)"
   ]
  },
  {
   "cell_type": "code",
   "execution_count": 37,
   "id": "bd1e78eb",
   "metadata": {},
   "outputs": [
    {
     "data": {
      "text/plain": [
       "2771             Admission\n",
       "2271             Ramanujan\n",
       "4738                    Pi\n",
       "3123    The Oxford Murders\n",
       "4527      Twin Falls Idaho\n",
       "Name: title, dtype: object"
      ]
     },
     "execution_count": 37,
     "metadata": {},
     "output_type": "execute_result"
    }
   ],
   "source": [
    "a,b=get_recommendations('A Beautiful Mind')\n",
    "a.head(5)"
   ]
  },
  {
   "cell_type": "code",
   "execution_count": 39,
   "id": "e2a4ae1f",
   "metadata": {},
   "outputs": [
    {
     "data": {
      "text/plain": [
       "236            Windtalkers\n",
       "642               Unbroken\n",
       "2377       The Railway Man\n",
       "401     Enemy at the Gates\n",
       "800              Red Tails\n",
       "Name: title, dtype: object"
      ]
     },
     "execution_count": 39,
     "metadata": {},
     "output_type": "execute_result"
    }
   ],
   "source": [
    "a,b=get_recommendations('The Imitation Game')\n",
    "a.head(5)"
   ]
  },
  {
   "cell_type": "code",
   "execution_count": 40,
   "id": "9b1ae5fc",
   "metadata": {},
   "outputs": [
    {
     "data": {
      "text/plain": [
       "2897                       Cypher\n",
       "4253           Closer to the Moon\n",
       "1651                    In Dreams\n",
       "1193    The Count of Monte Cristo\n",
       "1803               Blood and Wine\n",
       "Name: title, dtype: object"
      ]
     },
     "execution_count": 40,
     "metadata": {},
     "output_type": "execute_result"
    }
   ],
   "source": [
    "a,b=get_recommendations('Inception')\n",
    "a.head(5)"
   ]
  },
  {
   "cell_type": "code",
   "execution_count": 41,
   "id": "90f46ffc",
   "metadata": {},
   "outputs": [
    {
     "data": {
      "text/plain": [
       "4648              On the Outs\n",
       "2111    The French Connection\n",
       "3491             The Wackness\n",
       "3466            Sliding Doors\n",
       "264                       Ali\n",
       "Name: title, dtype: object"
      ]
     },
     "execution_count": 41,
     "metadata": {},
     "output_type": "execute_result"
    }
   ],
   "source": [
    "a,b=get_recommendations('Pulp Fiction')\n",
    "a.head(5)"
   ]
  },
  {
   "cell_type": "code",
   "execution_count": 42,
   "id": "72c53b21",
   "metadata": {},
   "outputs": [
    {
     "data": {
      "text/plain": [
       "780                                  Edtv\n",
       "1971                          Nurse Betty\n",
       "4681                         Reality Show\n",
       "2840                             Top Five\n",
       "906     Anchorman 2: The Legend Continues\n",
       "Name: title, dtype: object"
      ]
     },
     "execution_count": 42,
     "metadata": {},
     "output_type": "execute_result"
    }
   ],
   "source": [
    "a,b=get_recommendations('The Truman Show')\n",
    "a.head(5)"
   ]
  },
  {
   "cell_type": "code",
   "execution_count": 44,
   "id": "b1349016",
   "metadata": {},
   "outputs": [
    {
     "data": {
      "text/plain": [
       "787          The Great Raid\n",
       "401      Enemy at the Gates\n",
       "642                Unbroken\n",
       "456                    Fury\n",
       "4465    Saints and Soldiers\n",
       "Name: title, dtype: object"
      ]
     },
     "execution_count": 44,
     "metadata": {},
     "output_type": "execute_result"
    }
   ],
   "source": [
    "a,b=get_recommendations('Saving Private Ryan')\n",
    "a.head(5)"
   ]
  },
  {
   "cell_type": "code",
   "execution_count": 47,
   "id": "b264b556",
   "metadata": {},
   "outputs": [
    {
     "data": {
      "text/plain": [
       "1107                 The Juror\n",
       "1156            A Time to Kill\n",
       "2775            Find Me Guilty\n",
       "1209             The Rainmaker\n",
       "980     The Life of David Gale\n",
       "Name: title, dtype: object"
      ]
     },
     "execution_count": 47,
     "metadata": {},
     "output_type": "execute_result"
    }
   ],
   "source": [
    "a,b=get_recommendations('12 Angry Men')\n",
    "a.head(5)"
   ]
  },
  {
   "cell_type": "code",
   "execution_count": 48,
   "id": "8d4644b5",
   "metadata": {},
   "outputs": [
    {
     "data": {
      "text/plain": [
       "1370                          21\n",
       "144        Mr. Peabody & Sherman\n",
       "1128    The Mirror Has Two Faces\n",
       "3123          The Oxford Murders\n",
       "2908                    Madadayo\n",
       "Name: title, dtype: object"
      ]
     },
     "execution_count": 48,
     "metadata": {},
     "output_type": "execute_result"
    }
   ],
   "source": [
    "a,b=get_recommendations('Good Will Hunting')\n",
    "a.head(5)"
   ]
  },
  {
   "cell_type": "code",
   "execution_count": null,
   "id": "6a36360e",
   "metadata": {},
   "outputs": [],
   "source": []
  },
  {
   "cell_type": "code",
   "execution_count": null,
   "id": "84435239",
   "metadata": {},
   "outputs": [],
   "source": []
  }
 ],
 "metadata": {
  "kernelspec": {
   "display_name": "Python 3 (ipykernel)",
   "language": "python",
   "name": "python3"
  },
  "language_info": {
   "codemirror_mode": {
    "name": "ipython",
    "version": 3
   },
   "file_extension": ".py",
   "mimetype": "text/x-python",
   "name": "python",
   "nbconvert_exporter": "python",
   "pygments_lexer": "ipython3",
   "version": "3.9.7"
  }
 },
 "nbformat": 4,
 "nbformat_minor": 5
}
